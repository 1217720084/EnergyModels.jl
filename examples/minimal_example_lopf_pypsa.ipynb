{
 "cells": [
  {
   "cell_type": "markdown",
   "metadata": {
    "slideshow": {
     "slide_type": "slide"
    }
   },
   "source": [
    "# Minimal 3-node example of PyPSA linear optimal power flow\n",
    "\n",
    "Available as a Jupyter notebook at <http://www.pypsa.org/examples/minimal_example_lopf.ipynb>."
   ]
  },
  {
   "cell_type": "code",
   "execution_count": 1,
   "metadata": {},
   "outputs": [],
   "source": [
    "import pypsa\n",
    "import numpy as np"
   ]
  },
  {
   "cell_type": "code",
   "execution_count": 2,
   "metadata": {
    "slideshow": {
     "slide_type": "subslide"
    }
   },
   "outputs": [],
   "source": [
    "network = pypsa.Network()"
   ]
  },
  {
   "cell_type": "code",
   "execution_count": 3,
   "metadata": {
    "collapsed": false,
    "jupyter": {
     "outputs_hidden": false
    }
   },
   "outputs": [],
   "source": [
    "#add three buses\n",
    "for i in range(3):\n",
    "    network.add(\"Bus\",\"My bus {}\".format(i))"
   ]
  },
  {
   "cell_type": "code",
   "execution_count": 4,
   "metadata": {
    "collapsed": false,
    "jupyter": {
     "outputs_hidden": false
    }
   },
   "outputs": [],
   "source": [
    "#add three lines in a ring\n",
    "for i in range(3):\n",
    "    network.add(\"Line\",\"My line {}\".format(i),\n",
    "                bus0=\"My bus {}\".format(i),\n",
    "                bus1=\"My bus {}\".format((i+1)%3),\n",
    "                x=0.0001,\n",
    "                s_nom=60)"
   ]
  },
  {
   "cell_type": "code",
   "execution_count": 5,
   "metadata": {
    "collapsed": false,
    "jupyter": {
     "outputs_hidden": false
    },
    "slideshow": {
     "slide_type": "subslide"
    }
   },
   "outputs": [],
   "source": [
    "#add a generator at bus 0\n",
    "network.add(\"Generator\",\"My gen 0\",\n",
    "            carrier=\"gas\",\n",
    "            bus=\"My bus 0\",\n",
    "            p_nom=100,\n",
    "            marginal_cost=50)\n",
    "\n",
    "#add a generator at bus 1\n",
    "network.add(\"Generator\",\"My gen 1\",\n",
    "            carrier=\"gas\",\n",
    "            bus=\"My bus 1\",\n",
    "            p_nom=100,\n",
    "            marginal_cost=25)"
   ]
  },
  {
   "cell_type": "code",
   "execution_count": 6,
   "metadata": {
    "collapsed": false,
    "jupyter": {
     "outputs_hidden": false
    }
   },
   "outputs": [],
   "source": [
    "#add a load at bus 2\n",
    "network.add(\"Load\",\"My load\",\n",
    "            bus=\"My bus 2\",\n",
    "            p_set=100)"
   ]
  },
  {
   "cell_type": "code",
   "execution_count": 18,
   "metadata": {},
   "outputs": [
    {
     "name": "stderr",
     "output_type": "stream",
     "text": [
      "INFO:pypsa.io:Exported network 3bus.nc has buses, lines, loads, generators\n"
     ]
    },
    {
     "data": {
      "text/plain": [
       "<xarray.Dataset>\n",
       "Dimensions:                   (buses_i: 3, buses_t_marginal_price_i: 1, generators_i: 2, lines_i: 3, loads_i: 1, snapshots: 1)\n",
       "Coordinates:\n",
       "  * snapshots                 (snapshots) object 'now'\n",
       "  * buses_i                   (buses_i) object 'My bus 0' 'My bus 1' 'My bus 2'\n",
       "  * buses_t_marginal_price_i  (buses_t_marginal_price_i) object 'My bus 0'\n",
       "  * lines_i                   (lines_i) object 'My line 0' ... 'My line 2'\n",
       "  * loads_i                   (loads_i) object 'My load'\n",
       "  * generators_i              (generators_i) object 'My gen 0' 'My gen 1'\n",
       "Data variables:\n",
       "    snapshots_weightings      (snapshots) float64 1.0\n",
       "    buses_t_marginal_price    (snapshots, buses_t_marginal_price_i) float64 50.0\n",
       "    lines_bus0                (lines_i) object 'My bus 0' 'My bus 1' 'My bus 2'\n",
       "    lines_bus1                (lines_i) object 'My bus 1' 'My bus 2' 'My bus 0'\n",
       "    lines_x                   (lines_i) float64 0.0001 0.0001 0.0001\n",
       "    lines_s_nom               (lines_i) float64 60.0 60.0 60.0\n",
       "    loads_bus                 (loads_i) object 'My bus 2'\n",
       "    loads_p_set               (loads_i) float64 100.0\n",
       "    generators_bus            (generators_i) object 'My bus 0' 'My bus 1'\n",
       "    generators_p_nom          (generators_i) float64 100.0 100.0\n",
       "    generators_carrier        (generators_i) object 'gas' 'gas'\n",
       "    generators_marginal_cost  (generators_i) float64 50.0 25.0\n",
       "Attributes:\n",
       "    network_name:           \n",
       "    network_pypsa_version:  0.14.1\n",
       "    network_srid:           4326"
      ]
     },
     "execution_count": 18,
     "metadata": {},
     "output_type": "execute_result"
    }
   ],
   "source": [
    "network.export_to_netcdf(\"3bus.nc\")"
   ]
  },
  {
   "cell_type": "markdown",
   "metadata": {},
   "source": [
    "## EnergyModels in PyPSA"
   ]
  },
  {
   "cell_type": "markdown",
   "metadata": {
    "slideshow": {
     "slide_type": "fragment"
    }
   },
   "source": [
    "We import Julia's EnergyModels and Gurobi from the (local) environment"
   ]
  },
  {
   "cell_type": "code",
   "execution_count": 7,
   "metadata": {
    "slideshow": {
     "slide_type": "slide"
    }
   },
   "outputs": [],
   "source": [
    "from julia import Pkg\n",
    "Pkg.activate(\".\")\n",
    "from julia import EnergyModels as EM, Gurobi"
   ]
  },
  {
   "cell_type": "markdown",
   "metadata": {
    "slideshow": {
     "slide_type": "subslide"
    }
   },
   "source": [
    ".. and are able to mix PyPSA and EnergyModels freely: Data is taken straight out of the pandas dataframes, only short-lived copies during the building phase of each component:"
   ]
  },
  {
   "cell_type": "code",
   "execution_count": 8,
   "metadata": {},
   "outputs": [
    {
     "data": {
      "text/plain": [
       "<PyCall.jlwrap Min 50 gas::p[My gen 0,now] + 25 gas::p[My gen 1,now]\n",
       "Subject to\n",
       " gas::p[My gen 0,now] + gas::p[My gen 1,now] = 100.0\n",
       " gas::p[My gen 0,now] + gas::p[My gen 1,now] = 100.0\n",
       " gas::p[My gen 0,now] + gas::p[My gen 1,now] = 100.0\n",
       " -0.0001 lines_AC::p[My line 0,now] - 0.0001 lines_AC::p[My line 1,now] - 0.0001 lines_AC::p[My line 2,now] = 0.0\n",
       " lines_AC::p[My line 0,now] ≥ -60.0\n",
       " lines_AC::p[My line 1,now] ≥ -60.0\n",
       " lines_AC::p[My line 2,now] ≥ -60.0\n",
       " gas::p[My gen 0,now] ≥ 0.0\n",
       " gas::p[My gen 1,now] ≥ 0.0\n",
       " lines_AC::p[My line 0,now] ≤ 60.0\n",
       " lines_AC::p[My line 1,now] ≤ 60.0\n",
       " lines_AC::p[My line 2,now] ≤ 60.0\n",
       " gas::p[My gen 0,now] ≤ 100.0\n",
       " gas::p[My gen 1,now] ≤ 100.0\n",
       ">"
      ]
     },
     "execution_count": 8,
     "metadata": {},
     "output_type": "execute_result"
    }
   ],
   "source": [
    "model = EM.EnergyModel(network, optimizer=Gurobi.Optimizer)\n",
    "EM.build_b(model)"
   ]
  },
  {
   "cell_type": "markdown",
   "metadata": {},
   "source": [
    "... and optimize"
   ]
  },
  {
   "cell_type": "code",
   "execution_count": 9,
   "metadata": {},
   "outputs": [],
   "source": [
    "EM.optimize_b(model)"
   ]
  },
  {
   "cell_type": "markdown",
   "metadata": {
    "slideshow": {
     "slide_type": "subslide"
    }
   },
   "source": [
    "... and write back"
   ]
  },
  {
   "cell_type": "code",
   "execution_count": null,
   "metadata": {},
   "outputs": [],
   "source": [
    "EM.store_results_b(model)"
   ]
  },
  {
   "cell_type": "code",
   "execution_count": 21,
   "metadata": {
    "collapsed": false,
    "jupyter": {
     "outputs_hidden": false
    }
   },
   "outputs": [
    {
     "name": "stdout",
     "output_type": "stream",
     "text": [
      "generators_i  My gen 0  My gen 1\n",
      "snapshots                       \n",
      "now               20.0      80.0\n"
     ]
    }
   ],
   "source": [
    "#Cheap generator 1 cannot be fully dispatched because of network constraints,\n",
    "#so expensive generator 0 also has to dispatch\n",
    "print(network.generators_t.p)"
   ]
  },
  {
   "cell_type": "code",
   "execution_count": 22,
   "metadata": {
    "collapsed": false,
    "jupyter": {
     "outputs_hidden": false
    }
   },
   "outputs": [
    {
     "name": "stdout",
     "output_type": "stream",
     "text": [
      "lines_i    My line 0  My line 1  My line 2\n",
      "snapshots                                 \n",
      "now            -20.0       60.0      -40.0\n"
     ]
    }
   ],
   "source": [
    "#network flows\n",
    "print(network.lines_t.p0)"
   ]
  },
  {
   "cell_type": "code",
   "execution_count": 23,
   "metadata": {
    "collapsed": false,
    "jupyter": {
     "outputs_hidden": false
    }
   },
   "outputs": [
    {
     "name": "stdout",
     "output_type": "stream",
     "text": [
      "lines_i    My line 0  My line 1  My line 2\n",
      "snapshots                                 \n",
      "now         0.333333        1.0   0.666667\n"
     ]
    }
   ],
   "source": [
    "#Line 1 is congested\n",
    "print(abs(network.lines_t.p0)/network.lines.s_nom)"
   ]
  },
  {
   "cell_type": "code",
   "execution_count": 24,
   "metadata": {
    "collapsed": false,
    "jupyter": {
     "outputs_hidden": false
    }
   },
   "outputs": [
    {
     "name": "stdout",
     "output_type": "stream",
     "text": [
      "buses_i    My bus 0  My bus 1  My bus 2\n",
      "snapshots                              \n",
      "now             0.0  0.114592 -0.229183\n"
     ]
    }
   ],
   "source": [
    "#Power flows towards lower voltage angles\n",
    "print(network.buses_t.v_ang*180/np.pi)"
   ]
  },
  {
   "cell_type": "code",
   "execution_count": 25,
   "metadata": {
    "collapsed": false,
    "jupyter": {
     "outputs_hidden": false
    }
   },
   "outputs": [
    {
     "name": "stdout",
     "output_type": "stream",
     "text": [
      "buses_i    My bus 0  My bus 1  My bus 2\n",
      "snapshots                              \n",
      "now             1.0       1.0       1.0\n"
     ]
    }
   ],
   "source": [
    "#In linear approximation, all voltage magnitudes are nominal, i.e. 1 per unit\n",
    "print(network.buses_t.v_mag_pu)"
   ]
  },
  {
   "cell_type": "code",
   "execution_count": 26,
   "metadata": {
    "collapsed": false,
    "jupyter": {
     "outputs_hidden": false
    }
   },
   "outputs": [
    {
     "name": "stdout",
     "output_type": "stream",
     "text": [
      "buses_i    My bus 0  My bus 1  My bus 2\n",
      "snapshots                              \n",
      "now            50.0      25.0      75.0\n"
     ]
    }
   ],
   "source": [
    "#At bus 2 the price is set above any marginal generation costs in the model, because to dispatch to\n",
    "#it from expensive generator 0, also some dispatch from cheap generator 1 has to be substituted from generator0\n",
    "#to avoid overloading line 1.\n",
    "print(network.buses_t.marginal_price)"
   ]
  },
  {
   "cell_type": "markdown",
   "metadata": {
    "slideshow": {
     "slide_type": "slide"
    }
   },
   "source": [
    "# Alternative `lopf` based on EnergyModels"
   ]
  },
  {
   "cell_type": "code",
   "execution_count": 34,
   "metadata": {},
   "outputs": [],
   "source": [
    "def lopf_with_energymodels(network, snapshots=None):\n",
    "    model = EM.EnergyModel(network, optimizer=Gurobi.Optimizer)\n",
    "    if snapshots is not None:\n",
    "        EM.set_snapshots_b(snapshots)\n",
    "    EM.build_b(model)\n",
    "    EM.optimize_b(model)\n",
    "    EM.store_results_b(model)"
   ]
  },
  {
   "cell_type": "markdown",
   "metadata": {
    "slideshow": {
     "slide_type": "subslide"
    }
   },
   "source": [
    "... and go"
   ]
  },
  {
   "cell_type": "code",
   "execution_count": null,
   "metadata": {
    "slideshow": {
     "slide_type": "subslide"
    }
   },
   "outputs": [],
   "source": [
    "lopf_with_energymodels(network)"
   ]
  },
  {
   "cell_type": "code",
   "execution_count": null,
   "metadata": {},
   "outputs": [],
   "source": []
  }
 ],
 "metadata": {
  "kernelspec": {
   "display_name": "Python 3",
   "language": "python",
   "name": "python3"
  },
  "language_info": {
   "codemirror_mode": {
    "name": "ipython",
    "version": 3
   },
   "file_extension": ".py",
   "mimetype": "text/x-python",
   "name": "python",
   "nbconvert_exporter": "python",
   "pygments_lexer": "ipython3",
   "version": "3.7.3"
  }
 },
 "nbformat": 4,
 "nbformat_minor": 4
}
