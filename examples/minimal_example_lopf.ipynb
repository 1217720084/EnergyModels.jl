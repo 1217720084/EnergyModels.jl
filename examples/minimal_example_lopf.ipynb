{
 "cells": [
  {
   "cell_type": "markdown",
   "metadata": {
    "slideshow": {
     "slide_type": "slide"
    }
   },
   "source": [
    "# EnergyModels"
   ]
  },
  {
   "cell_type": "markdown",
   "metadata": {
    "slideshow": {
     "slide_type": "slide"
    }
   },
   "source": [
    "## Minimal 3-node example of linear optimal power flow"
   ]
  },
  {
   "cell_type": "code",
   "execution_count": 85,
   "metadata": {
    "slideshow": {
     "slide_type": "fragment"
    }
   },
   "outputs": [
    {
     "name": "stdout",
     "output_type": "stream",
     "text": [
      "\u001b[32m\u001b[1mActivating\u001b[22m\u001b[39m environment at `~/.julia/dev/EnergyModels/examples/Project.toml`\n"
     ]
    }
   ],
   "source": [
    "]activate .; instantiate"
   ]
  },
  {
   "cell_type": "code",
   "execution_count": 86,
   "metadata": {},
   "outputs": [],
   "source": [
    "using PowerModels\n",
    "const PM = PowerModels\n",
    "using JuMP\n",
    "using Dates\n",
    "using AxisArrays\n",
    "using Gurobi"
   ]
  },
  {
   "cell_type": "code",
   "execution_count": 87,
   "metadata": {},
   "outputs": [
    {
     "data": {
      "text/plain": [
       "EnergyModels"
      ]
     },
     "execution_count": 87,
     "metadata": {},
     "output_type": "execute_result"
    }
   ],
   "source": [
    "using Revise\n",
    "using EnergyModels\n",
    "const EM = EnergyModels"
   ]
  },
  {
   "cell_type": "markdown",
   "metadata": {
    "slideshow": {
     "slide_type": "subslide"
    }
   },
   "source": [
    "### Start new empty EnergyModel for linear dispatch"
   ]
  },
  {
   "cell_type": "code",
   "execution_count": 88,
   "metadata": {},
   "outputs": [
    {
     "name": "stdout",
     "output_type": "stream",
     "text": [
      "Academic license - for non-commercial use only\n"
     ]
    },
    {
     "data": {
      "text/plain": [
       "EnergyModel{EnergyModels.LinearDispatchModel,DCPlosslessForm} with 0 buses and 0 devices"
      ]
     },
     "execution_count": 88,
     "metadata": {},
     "output_type": "execute_result"
    }
   ],
   "source": [
    "model = EnergyModel(modeltype=EM.LinearDispatchModel, optimizer=Gurobi.Optimizer)"
   ]
  },
  {
   "cell_type": "code",
   "execution_count": 89,
   "metadata": {},
   "outputs": [
    {
     "data": {
      "text/plain": [
       "Axis{:snapshots,Array{Symbol,1}}(Symbol[:now])"
      ]
     },
     "execution_count": 89,
     "metadata": {},
     "output_type": "execute_result"
    }
   ],
   "source": [
    "set_snapshots!(model, [:now]) # or DateTime(\"2012-01\"):Hour(1):DateTime(\"2012-01-31 23:00\")"
   ]
  },
  {
   "cell_type": "markdown",
   "metadata": {
    "slideshow": {
     "slide_type": "subslide"
    }
   },
   "source": [
    "### Adding components"
   ]
  },
  {
   "cell_type": "code",
   "execution_count": 90,
   "metadata": {},
   "outputs": [],
   "source": [
    "for i in 1:3\n",
    "    add!(model, Bus, Symbol(:bus, i), carrier=:AC)\n",
    "end"
   ]
  },
  {
   "cell_type": "code",
   "execution_count": 91,
   "metadata": {
    "collapsed": false,
    "jupyter": {
     "outputs_hidden": false
    }
   },
   "outputs": [],
   "source": [
    "#add three lines in a ring\n",
    "for i in 1:3\n",
    "    add!(model, Line, Symbol(:line, i),\n",
    "         bus0=Symbol(:bus, i),\n",
    "         bus1=Symbol(:bus, i%3+1),\n",
    "         x=0.0001,\n",
    "         s_nom=60.)\n",
    "end"
   ]
  },
  {
   "cell_type": "code",
   "execution_count": 92,
   "metadata": {},
   "outputs": [
    {
     "data": {
      "text/plain": [
       "Generator{EnergyModels.LinearExpansionForm{EnergyModels.LinearDispatchForm}}(gen2)"
      ]
     },
     "execution_count": 92,
     "metadata": {},
     "output_type": "execute_result"
    }
   ],
   "source": [
    "add!(model, Generator, :gen1, bus=:bus1, p_nom=100., marginal_cost=50.)\n",
    "add!(model, Generator, :gen2, bus=:bus2, p_nom=100., marginal_cost=25.)"
   ]
  },
  {
   "cell_type": "code",
   "execution_count": 93,
   "metadata": {},
   "outputs": [
    {
     "data": {
      "text/plain": [
       "Load{EnergyModels.LinearDispatchForm}(load)"
      ]
     },
     "execution_count": 93,
     "metadata": {},
     "output_type": "execute_result"
    }
   ],
   "source": [
    "add!(model, Load, :load, bus=:bus3, p_set=100.)"
   ]
  },
  {
   "cell_type": "markdown",
   "metadata": {
    "slideshow": {
     "slide_type": "subslide"
    }
   },
   "source": [
    "### Building the JuMP model"
   ]
  },
  {
   "cell_type": "code",
   "execution_count": 94,
   "metadata": {},
   "outputs": [],
   "source": [
    "determine_subnetworks!(model) # now implicit in `build!(model)`"
   ]
  },
  {
   "cell_type": "code",
   "execution_count": 95,
   "metadata": {},
   "outputs": [
    {
     "data": {
      "text/latex": [
       "$$ \\begin{alignat*}{1}\\min\\quad & 50 p_{gen1,now} + 25 p_{gen2,now}\\\\\n",
       "\\text{Subject to} \\quad & p_{gen1,now} - p_{line3,now} + p_{line1,now} = 0.0\\\\\n",
       " & -p_{line2,now} + p_{line3,now} = 100.0\\\\\n",
       " & p_{gen2,now} + p_{line2,now} - p_{line1,now} = 0.0\\\\\n",
       " & 0.0001 p_{line2,now} + 0.0001 p_{line3,now} + 0.0001 p_{line1,now} = 0.0\\\\\n",
       " & p_{gen1,now} \\geq 0.0\\\\\n",
       " & p_{gen2,now} \\geq 0.0\\\\\n",
       " & p_{line2,now} \\geq -60.0\\\\\n",
       " & p_{line3,now} \\geq -60.0\\\\\n",
       " & p_{line1,now} \\geq -60.0\\\\\n",
       " & p_{gen1,now} \\leq 100.0\\\\\n",
       " & p_{gen2,now} \\leq 100.0\\\\\n",
       " & p_{line2,now} \\leq 60.0\\\\\n",
       " & p_{line3,now} \\leq 60.0\\\\\n",
       " & p_{line1,now} \\leq 60.0\\\\\n",
       "\\end{alignat*}\n",
       " $$"
      ],
      "text/plain": [
       "A JuMP Model\n",
       "Minimization problem with:\n",
       "Variables: 5\n",
       "Objective function type: GenericAffExpr{Float64,VariableRef}\n",
       "`GenericAffExpr{Float64,VariableRef}`-in-`MathOptInterface.EqualTo{Float64}`: 4 constraints\n",
       "`VariableRef`-in-`MathOptInterface.GreaterThan{Float64}`: 5 constraints\n",
       "`VariableRef`-in-`MathOptInterface.LessThan{Float64}`: 5 constraints\n",
       "Model mode: AUTOMATIC\n",
       "CachingOptimizer state: ATTACHED_OPTIMIZER\n",
       "Solver name: Gurobi"
      ]
     },
     "execution_count": 95,
     "metadata": {},
     "output_type": "execute_result"
    }
   ],
   "source": [
    "build!(model)"
   ]
  },
  {
   "cell_type": "markdown",
   "metadata": {
    "slideshow": {
     "slide_type": "subslide"
    }
   },
   "source": [
    "### Solving it"
   ]
  },
  {
   "cell_type": "code",
   "execution_count": 96,
   "metadata": {},
   "outputs": [
    {
     "name": "stdout",
     "output_type": "stream",
     "text": [
      "Optimize a model with 4 rows, 5 columns and 11 nonzeros\n",
      "Coefficient statistics:\n",
      "  Matrix range     [1e-04, 1e+00]\n",
      "  Objective range  [2e+01, 5e+01]\n",
      "  Bounds range     [6e+01, 1e+02]\n",
      "  RHS range        [1e+02, 1e+02]\n",
      "Presolve removed 4 rows and 5 columns\n",
      "Presolve time: 0.01s\n",
      "Presolve: All rows and columns removed\n",
      "Iteration    Objective       Primal Inf.    Dual Inf.      Time\n",
      "       0    3.0000000e+03   0.000000e+00   0.000000e+00      0s\n",
      "\n",
      "Solved in 0 iterations and 0.01 seconds\n",
      "Optimal objective  3.000000000e+03\n"
     ]
    }
   ],
   "source": [
    "optimize!(model)"
   ]
  },
  {
   "cell_type": "markdown",
   "metadata": {
    "slideshow": {
     "slide_type": "slide"
    }
   },
   "source": [
    "## Introspection"
   ]
  },
  {
   "cell_type": "markdown",
   "metadata": {},
   "source": [
    "### Single components"
   ]
  },
  {
   "cell_type": "markdown",
   "metadata": {},
   "source": [
    "Each component is accessible using `model[<name>]`"
   ]
  },
  {
   "cell_type": "code",
   "execution_count": 109,
   "metadata": {},
   "outputs": [
    {
     "data": {
      "text/plain": [
       "Generator{EnergyModels.LinearExpansionForm{EnergyModels.LinearDispatchForm}}(gen1) (demoted to EnergyModels.LinearDispatchForm)"
      ]
     },
     "execution_count": 109,
     "metadata": {},
     "output_type": "execute_result"
    }
   ],
   "source": [
    "g = model[:gen1]"
   ]
  },
  {
   "cell_type": "markdown",
   "metadata": {},
   "source": [
    "... the same `[]` syntax on a component gives access to parameters"
   ]
  },
  {
   "cell_type": "code",
   "execution_count": 116,
   "metadata": {},
   "outputs": [
    {
     "name": "stdout",
     "output_type": "stream",
     "text": [
      "g[:p_nom] = 100.0\n",
      "g[:marginal_cost] = 50.0\n"
     ]
    }
   ],
   "source": [
    "@show g[:p_nom] g[:marginal_cost];"
   ]
  },
  {
   "cell_type": "markdown",
   "metadata": {
    "slideshow": {
     "slide_type": "subslide"
    }
   },
   "source": [
    "... as well as variables (time-dependent arrays)"
   ]
  },
  {
   "cell_type": "code",
   "execution_count": 113,
   "metadata": {},
   "outputs": [
    {
     "data": {
      "text/plain": [
       "2-dimensional AxisArray{VariableRef,2,...} with axes:\n",
       "    :gen1, Symbol[:gen1]\n",
       "    :snapshots, Symbol[:now]\n",
       "And data, a 1×1 Array{VariableRef,2}:\n",
       " p[gen1,now]"
      ]
     },
     "execution_count": 113,
     "metadata": {},
     "output_type": "execute_result"
    }
   ],
   "source": [
    "g[:p]"
   ]
  },
  {
   "cell_type": "markdown",
   "metadata": {},
   "source": [
    "and their values"
   ]
  },
  {
   "cell_type": "code",
   "execution_count": 114,
   "metadata": {},
   "outputs": [
    {
     "data": {
      "text/plain": [
       "1×1 Array{Float64,2}:\n",
       " 20.0"
      ]
     },
     "execution_count": 114,
     "metadata": {},
     "output_type": "execute_result"
    }
   ],
   "source": [
    "value.(g[:p])"
   ]
  },
  {
   "cell_type": "markdown",
   "metadata": {
    "slideshow": {
     "slide_type": "subslide"
    }
   },
   "source": [
    "... as well as constraints"
   ]
  },
  {
   "cell_type": "code",
   "execution_count": 119,
   "metadata": {},
   "outputs": [
    {
     "data": {
      "text/plain": [
       "2-dimensional AxisArray{ConstraintRef{Model,C,Shape} where Shape<:AbstractShape where C,2,...} with axes:\n",
       "    :bus1, Symbol[:bus1]\n",
       "    :snapshots, Symbol[:now]\n",
       "And data, a 1×1 Array{ConstraintRef{Model,C,Shape} where Shape<:AbstractShape where C,2}:\n",
       " p_balance[bus1,now] : p[gen1,now] - p[line3,now] + p[line1,now] = 0.0"
      ]
     },
     "execution_count": 119,
     "metadata": {},
     "output_type": "execute_result"
    }
   ],
   "source": [
    "model[:bus1][:p_balance]"
   ]
  },
  {
   "cell_type": "code",
   "execution_count": 120,
   "metadata": {},
   "outputs": [
    {
     "data": {
      "text/plain": [
       "1×1 Array{Float64,2}:\n",
       " 50.0"
      ]
     },
     "execution_count": 120,
     "metadata": {},
     "output_type": "execute_result"
    }
   ],
   "source": [
    "dual.(model[:bus1][:p_balance])"
   ]
  },
  {
   "cell_type": "code",
   "execution_count": 121,
   "metadata": {},
   "outputs": [
    {
     "data": {
      "text/plain": [
       "1×1 Array{Float64,2}:\n",
       " 0.0"
      ]
     },
     "execution_count": 121,
     "metadata": {},
     "output_type": "execute_result"
    }
   ],
   "source": [
    "value.(model[:bus1][:p_balance])"
   ]
  },
  {
   "cell_type": "markdown",
   "metadata": {
    "slideshow": {
     "slide_type": "subslide"
    }
   },
   "source": [
    "### ContainerViews"
   ]
  },
  {
   "cell_type": "markdown",
   "metadata": {},
   "source": [
    "Instead of single components, we can also query across multiple components with the concrete or even abstract types"
   ]
  },
  {
   "cell_type": "markdown",
   "metadata": {},
   "source": [
    "... capacity of all `Generator`s:"
   ]
  },
  {
   "cell_type": "code",
   "execution_count": 126,
   "metadata": {},
   "outputs": [
    {
     "data": {
      "text/plain": [
       "1-dimensional AxisArray{Float64,1,...} with axes:\n",
       "    :generators, Tuple{Symbol,Symbol}[(:gen2, :gen2), (:gen1, :gen1)]\n",
       "And data, a 2-element Array{Float64,1}:\n",
       " 100.0\n",
       " 100.0"
      ]
     },
     "execution_count": 126,
     "metadata": {},
     "output_type": "execute_result"
    }
   ],
   "source": [
    "model[Generator][:p_nom]"
   ]
  },
  {
   "cell_type": "markdown",
   "metadata": {
    "slideshow": {
     "slide_type": "subslide"
    }
   },
   "source": [
    "... dispatch of all `Branch`es"
   ]
  },
  {
   "cell_type": "code",
   "execution_count": 141,
   "metadata": {},
   "outputs": [
    {
     "data": {
      "text/plain": [
       "2-dimensional AxisArray{VariableRef,2,...} with axes:\n",
       "    :branches, Tuple{Symbol,Symbol}[(:line2, :line2), (:line3, :line3), (:line1, :line1)]\n",
       "    :snapshots, Symbol[:now]\n",
       "And data, a 3×1 Array{VariableRef,2}:\n",
       " p[line2,now]\n",
       " p[line3,now]\n",
       " p[line1,now]"
      ]
     },
     "execution_count": 141,
     "metadata": {},
     "output_type": "execute_result"
    }
   ],
   "source": [
    "model[Branch][:p]"
   ]
  },
  {
   "cell_type": "code",
   "execution_count": 133,
   "metadata": {},
   "outputs": [
    {
     "data": {
      "text/plain": [
       "3×1 Array{Float64,2}:\n",
       " -60.0\n",
       "  40.0\n",
       "  20.0"
      ]
     },
     "execution_count": 133,
     "metadata": {},
     "output_type": "execute_result"
    }
   ],
   "source": [
    "value.(model[Line][:p])"
   ]
  },
  {
   "cell_type": "markdown",
   "metadata": {
    "slideshow": {
     "slide_type": "subslide"
    }
   },
   "source": [
    "### Duals of the line-flow variable bounds (ie how binding are line capacities)"
   ]
  },
  {
   "cell_type": "code",
   "execution_count": 137,
   "metadata": {},
   "outputs": [
    {
     "data": {
      "text/plain": [
       "3×1 Array{Float64,2}:\n",
       " 0.0\n",
       " 0.0\n",
       " 0.0"
      ]
     },
     "execution_count": 137,
     "metadata": {},
     "output_type": "execute_result"
    }
   ],
   "source": [
    "dual.(UpperBoundRef.(model[Line][:p]))"
   ]
  },
  {
   "cell_type": "code",
   "execution_count": 135,
   "metadata": {},
   "outputs": [
    {
     "data": {
      "text/plain": [
       "3×1 Array{Float64,2}:\n",
       " 75.0\n",
       "  0.0\n",
       "  0.0"
      ]
     },
     "execution_count": 135,
     "metadata": {},
     "output_type": "execute_result"
    }
   ],
   "source": [
    "dual.(LowerBoundRef.(model[Line][:p]))"
   ]
  },
  {
   "cell_type": "markdown",
   "metadata": {
    "slideshow": {
     "slide_type": "slide"
    }
   },
   "source": [
    "# From PyPSA: linear optimal power flow"
   ]
  },
  {
   "cell_type": "code",
   "execution_count": 1,
   "metadata": {},
   "outputs": [],
   "source": [
    "import pypsa\n",
    "import numpy as np"
   ]
  },
  {
   "cell_type": "code",
   "execution_count": 2,
   "metadata": {
    "slideshow": {
     "slide_type": "subslide"
    }
   },
   "outputs": [],
   "source": [
    "network = pypsa.Network()"
   ]
  },
  {
   "cell_type": "code",
   "execution_count": 3,
   "metadata": {
    "collapsed": false,
    "jupyter": {
     "outputs_hidden": false
    }
   },
   "outputs": [],
   "source": [
    "#add three buses\n",
    "for i in range(3):\n",
    "    network.add(\"Bus\",\"My bus {}\".format(i))"
   ]
  },
  {
   "cell_type": "code",
   "execution_count": 4,
   "metadata": {
    "collapsed": false,
    "jupyter": {
     "outputs_hidden": false
    }
   },
   "outputs": [],
   "source": [
    "#add three lines in a ring\n",
    "for i in range(3):\n",
    "    network.add(\"Line\",\"My line {}\".format(i),\n",
    "                bus0=\"My bus {}\".format(i),\n",
    "                bus1=\"My bus {}\".format((i+1)%3),\n",
    "                x=0.0001,\n",
    "                s_nom=60)"
   ]
  },
  {
   "cell_type": "code",
   "execution_count": 5,
   "metadata": {
    "collapsed": false,
    "jupyter": {
     "outputs_hidden": false
    },
    "slideshow": {
     "slide_type": "subslide"
    }
   },
   "outputs": [],
   "source": [
    "#add a generator at bus 0\n",
    "network.add(\"Generator\",\"My gen 0\",\n",
    "            carrier=\"gas\",\n",
    "            bus=\"My bus 0\",\n",
    "            p_nom=100,\n",
    "            marginal_cost=50)\n",
    "\n",
    "#add a generator at bus 1\n",
    "network.add(\"Generator\",\"My gen 1\",\n",
    "            carrier=\"gas\",\n",
    "            bus=\"My bus 1\",\n",
    "            p_nom=100,\n",
    "            marginal_cost=25)"
   ]
  },
  {
   "cell_type": "code",
   "execution_count": 6,
   "metadata": {
    "collapsed": false,
    "jupyter": {
     "outputs_hidden": false
    }
   },
   "outputs": [],
   "source": [
    "#add a load at bus 2\n",
    "network.add(\"Load\",\"My load\",\n",
    "            bus=\"My bus 2\",\n",
    "            p_set=100)"
   ]
  },
  {
   "cell_type": "markdown",
   "metadata": {
    "slideshow": {
     "slide_type": "subslide"
    }
   },
   "source": [
    "## EnergyModels in PyPSA"
   ]
  },
  {
   "cell_type": "markdown",
   "metadata": {
    "slideshow": {
     "slide_type": "fragment"
    }
   },
   "source": [
    "We import Julia's EnergyModels and Gurobi from the (local) environment"
   ]
  },
  {
   "cell_type": "code",
   "execution_count": 7,
   "metadata": {},
   "outputs": [],
   "source": [
    "from julia import Pkg\n",
    "Pkg.activate(\".\")\n",
    "from julia import EnergyModels as EM, Gurobi"
   ]
  },
  {
   "cell_type": "markdown",
   "metadata": {
    "slideshow": {
     "slide_type": "subslide"
    }
   },
   "source": [
    ".. and are able to mix PyPSA and EnergyModels freely: Data is taken straight out of the pandas dataframes, only short-lived copies during the building phase of each component:"
   ]
  },
  {
   "cell_type": "code",
   "execution_count": 8,
   "metadata": {},
   "outputs": [
    {
     "data": {
      "text/plain": [
       "<PyCall.jlwrap Min 50 gas::p[My gen 0,now] + 25 gas::p[My gen 1,now]\n",
       "Subject to\n",
       " gas::p[My gen 0,now] + gas::p[My gen 1,now] = 100.0\n",
       " gas::p[My gen 0,now] + gas::p[My gen 1,now] = 100.0\n",
       " gas::p[My gen 0,now] + gas::p[My gen 1,now] = 100.0\n",
       " -0.0001 lines_AC::p[My line 0,now] - 0.0001 lines_AC::p[My line 1,now] - 0.0001 lines_AC::p[My line 2,now] = 0.0\n",
       " lines_AC::p[My line 0,now] ≥ -60.0\n",
       " lines_AC::p[My line 1,now] ≥ -60.0\n",
       " lines_AC::p[My line 2,now] ≥ -60.0\n",
       " gas::p[My gen 0,now] ≥ 0.0\n",
       " gas::p[My gen 1,now] ≥ 0.0\n",
       " lines_AC::p[My line 0,now] ≤ 60.0\n",
       " lines_AC::p[My line 1,now] ≤ 60.0\n",
       " lines_AC::p[My line 2,now] ≤ 60.0\n",
       " gas::p[My gen 0,now] ≤ 100.0\n",
       " gas::p[My gen 1,now] ≤ 100.0\n",
       ">"
      ]
     },
     "execution_count": 8,
     "metadata": {},
     "output_type": "execute_result"
    }
   ],
   "source": [
    "model = EM.EnergyModel(network, optimizer=Gurobi.Optimizer)\n",
    "EM.build_b(model)"
   ]
  },
  {
   "cell_type": "markdown",
   "metadata": {
    "slideshow": {
     "slide_type": "subslide"
    }
   },
   "source": [
    "... and optimize"
   ]
  },
  {
   "cell_type": "code",
   "execution_count": 9,
   "metadata": {},
   "outputs": [],
   "source": [
    "EM.optimize_b(model)"
   ]
  },
  {
   "cell_type": "markdown",
   "metadata": {
    "slideshow": {
     "slide_type": "subslide"
    }
   },
   "source": [
    "... and write back"
   ]
  },
  {
   "cell_type": "code",
   "execution_count": null,
   "metadata": {},
   "outputs": [],
   "source": [
    "EM.store_results_b(model)"
   ]
  },
  {
   "cell_type": "code",
   "execution_count": 21,
   "metadata": {
    "collapsed": false,
    "jupyter": {
     "outputs_hidden": false
    },
    "slideshow": {
     "slide_type": "subslide"
    }
   },
   "outputs": [
    {
     "name": "stdout",
     "output_type": "stream",
     "text": [
      "generators_i  My gen 0  My gen 1\n",
      "snapshots                       \n",
      "now               20.0      80.0\n"
     ]
    }
   ],
   "source": [
    "#Cheap generator 1 cannot be fully dispatched because of network constraints,\n",
    "#so expensive generator 0 also has to dispatch\n",
    "print(network.generators_t.p)"
   ]
  },
  {
   "cell_type": "code",
   "execution_count": 22,
   "metadata": {
    "collapsed": false,
    "jupyter": {
     "outputs_hidden": false
    }
   },
   "outputs": [
    {
     "name": "stdout",
     "output_type": "stream",
     "text": [
      "lines_i    My line 0  My line 1  My line 2\n",
      "snapshots                                 \n",
      "now            -20.0       60.0      -40.0\n"
     ]
    }
   ],
   "source": [
    "#network flows\n",
    "print(network.lines_t.p0)"
   ]
  },
  {
   "cell_type": "code",
   "execution_count": 23,
   "metadata": {
    "collapsed": false,
    "jupyter": {
     "outputs_hidden": false
    }
   },
   "outputs": [
    {
     "name": "stdout",
     "output_type": "stream",
     "text": [
      "lines_i    My line 0  My line 1  My line 2\n",
      "snapshots                                 \n",
      "now         0.333333        1.0   0.666667\n"
     ]
    }
   ],
   "source": [
    "#Line 1 is congested\n",
    "print(abs(network.lines_t.p0)/network.lines.s_nom)"
   ]
  },
  {
   "cell_type": "code",
   "execution_count": 24,
   "metadata": {
    "collapsed": false,
    "jupyter": {
     "outputs_hidden": false
    }
   },
   "outputs": [
    {
     "name": "stdout",
     "output_type": "stream",
     "text": [
      "buses_i    My bus 0  My bus 1  My bus 2\n",
      "snapshots                              \n",
      "now             0.0  0.114592 -0.229183\n"
     ]
    }
   ],
   "source": [
    "#Power flows towards lower voltage angles\n",
    "print(network.buses_t.v_ang*180/np.pi)"
   ]
  },
  {
   "cell_type": "code",
   "execution_count": 25,
   "metadata": {
    "collapsed": false,
    "jupyter": {
     "outputs_hidden": false
    }
   },
   "outputs": [
    {
     "name": "stdout",
     "output_type": "stream",
     "text": [
      "buses_i    My bus 0  My bus 1  My bus 2\n",
      "snapshots                              \n",
      "now             1.0       1.0       1.0\n"
     ]
    }
   ],
   "source": [
    "#In linear approximation, all voltage magnitudes are nominal, i.e. 1 per unit\n",
    "print(network.buses_t.v_mag_pu)"
   ]
  },
  {
   "cell_type": "code",
   "execution_count": 26,
   "metadata": {
    "collapsed": false,
    "jupyter": {
     "outputs_hidden": false
    }
   },
   "outputs": [
    {
     "name": "stdout",
     "output_type": "stream",
     "text": [
      "buses_i    My bus 0  My bus 1  My bus 2\n",
      "snapshots                              \n",
      "now            50.0      25.0      75.0\n"
     ]
    }
   ],
   "source": [
    "#At bus 2 the price is set above any marginal generation costs in the model, because to dispatch to\n",
    "#it from expensive generator 0, also some dispatch from cheap generator 1 has to be substituted from generator0\n",
    "#to avoid overloading line 1.\n",
    "print(network.buses_t.marginal_price)"
   ]
  },
  {
   "cell_type": "markdown",
   "metadata": {
    "slideshow": {
     "slide_type": "subslide"
    }
   },
   "source": [
    "# Alternative `lopf` based on EnergyModels"
   ]
  },
  {
   "cell_type": "code",
   "execution_count": 34,
   "metadata": {},
   "outputs": [],
   "source": [
    "def lopf_with_energymodels(network, snapshots=None):\n",
    "    model = EM.EnergyModel(network, optimizer=Gurobi.Optimizer)\n",
    "    if snapshots is not None:\n",
    "        EM.set_snapshots_b(snapshots)\n",
    "    EM.build_b(model)\n",
    "    EM.optimize_b(model)\n",
    "    EM.store_results_b(model)"
   ]
  },
  {
   "cell_type": "markdown",
   "metadata": {
    "slideshow": {
     "slide_type": "subslide"
    }
   },
   "source": [
    "... and go"
   ]
  },
  {
   "cell_type": "code",
   "execution_count": null,
   "metadata": {
    "slideshow": {
     "slide_type": "subslide"
    }
   },
   "outputs": [],
   "source": [
    "lopf_with_energymodels(network)"
   ]
  },
  {
   "cell_type": "markdown",
   "metadata": {
    "slideshow": {
     "slide_type": "slide"
    }
   },
   "source": [
    "## Transforming into an expansion model"
   ]
  },
  {
   "cell_type": "code",
   "execution_count": 143,
   "metadata": {},
   "outputs": [
    {
     "name": "stdout",
     "output_type": "stream",
     "text": [
      "Academic license - for non-commercial use only\n"
     ]
    },
    {
     "data": {
      "text/plain": [
       "EnergyModel{EnergyModels.ExpansionModel,DCPlosslessForm} with 3 buses and 6 devices"
      ]
     },
     "execution_count": 143,
     "metadata": {},
     "output_type": "execute_result"
    }
   ],
   "source": [
    "exp = EnergyModel(model, modeltype=EM.ExpansionModel, optimizer=Gurobi.Optimizer)"
   ]
  },
  {
   "cell_type": "code",
   "execution_count": 146,
   "metadata": {},
   "outputs": [
    {
     "data": {
      "text/latex": [
       "$$ \\begin{alignat*}{1}\\min\\quad & 25 p_{gen2,now} + 50 p_{gen1,now}\\\\\n",
       "\\text{Subject to} \\quad & p_{gen1,now} - p_{line3,now} + p_{line1,now} = 0.0\\\\\n",
       " & -p_{line2,now} + p_{line3,now} = 100.0\\\\\n",
       " & p_{gen2,now} + p_{line2,now} - p_{line1,now} = 0.0\\\\\n",
       " & 0.0001 p_{line2,now} + 0.0001 p_{line3,now} + 0.0001 p_{line1,now} = 0.0\\\\\n",
       " & p_{gen2,now} \\geq 0.0\\\\\n",
       " & p_{gen1,now} \\geq 0.0\\\\\n",
       " & p_{line2,now} + s_nom_{line2} \\geq 0.0\\\\\n",
       " & p_{line3,now} + s_nom_{line3} \\geq 0.0\\\\\n",
       " & p_{line1,now} + s_nom_{line1} \\geq 0.0\\\\\n",
       " & p_{gen2,now} - p_nom_{gen2} \\leq 0.0\\\\\n",
       " & p_{gen1,now} - p_nom_{gen1} \\leq 0.0\\\\\n",
       " & p_{line2,now} - s_nom_{line2} \\leq 0.0\\\\\n",
       " & p_{line3,now} - s_nom_{line3} \\leq 0.0\\\\\n",
       " & p_{line1,now} - s_nom_{line1} \\leq 0.0\\\\\n",
       " & p_nom_{gen2} \\geq 0.0\\\\\n",
       " & p_nom_{gen1} \\geq 0.0\\\\\n",
       " & s_nom_{line2} \\geq 0.0\\\\\n",
       " & s_nom_{line3} \\geq 0.0\\\\\n",
       " & s_nom_{line1} \\geq 0.0\\\\\n",
       " & p_nom_{gen2} \\leq Inf\\\\\n",
       " & p_nom_{gen1} \\leq Inf\\\\\n",
       " & s_nom_{line2} \\leq Inf\\\\\n",
       " & s_nom_{line3} \\leq Inf\\\\\n",
       " & s_nom_{line1} \\leq Inf\\\\\n",
       "\\end{alignat*}\n",
       " $$"
      ],
      "text/plain": [
       "A JuMP Model\n",
       "Minimization problem with:\n",
       "Variables: 10\n",
       "Objective function type: GenericAffExpr{Float64,VariableRef}\n",
       "`GenericAffExpr{Float64,VariableRef}`-in-`MathOptInterface.EqualTo{Float64}`: 4 constraints\n",
       "`GenericAffExpr{Float64,VariableRef}`-in-`MathOptInterface.GreaterThan{Float64}`: 5 constraints\n",
       "`GenericAffExpr{Float64,VariableRef}`-in-`MathOptInterface.LessThan{Float64}`: 5 constraints\n",
       "`VariableRef`-in-`MathOptInterface.GreaterThan{Float64}`: 5 constraints\n",
       "`VariableRef`-in-`MathOptInterface.LessThan{Float64}`: 5 constraints\n",
       "Model mode: AUTOMATIC\n",
       "CachingOptimizer state: ATTACHED_OPTIMIZER\n",
       "Solver name: Gurobi"
      ]
     },
     "execution_count": 146,
     "metadata": {},
     "output_type": "execute_result"
    }
   ],
   "source": [
    "build!(exp)"
   ]
  },
  {
   "cell_type": "markdown",
   "metadata": {
    "slideshow": {
     "slide_type": "slide"
    }
   },
   "source": [
    "## Formulations"
   ]
  },
  {
   "cell_type": "code",
   "execution_count": null,
   "metadata": {},
   "outputs": [],
   "source": [
    "# Dispatch formulations\n",
    "abstract type DispatchForm <: DeviceFormulation end\n",
    "\n",
    "struct LinearDispatchForm <: DispatchForm end\n",
    "struct UnitCommittmentForm <: DispatchForm end\n",
    "\n",
    "# Expansion Formulations\n",
    "abstract type ExpansionForm{T<:DispatchForm} <: DeviceFormulation end\n",
    "struct LinearExpansionForm{T<:DispatchForm} <: ExpansionForm{T} end\n",
    "struct LinearExpansionDispatchForm{T<:DispatchForm} <: ExpansionForm{T} end\n",
    "struct LinearExpansionInvestmentForm{T<:DispatchForm} <: ExpansionForm{T} end"
   ]
  },
  {
   "cell_type": "code",
   "execution_count": 153,
   "metadata": {},
   "outputs": [
    {
     "data": {
      "text/plain": [
       "Dict{Symbol,Device} with 6 entries:\n",
       "  :gen2  => Generator{LinearExpansionForm{LinearDispatchForm}}(gen2)\n",
       "  :gen1  => Generator{LinearExpansionForm{LinearDispatchForm}}(gen1)\n",
       "  :line2 => Line{LinearExpansionForm{LinearDispatchForm}}(line2)\n",
       "  :line3 => Line{LinearExpansionForm{LinearDispatchForm}}(line3)\n",
       "  :load  => Load{LinearDispatchForm}(load)\n",
       "  :line1 => Line{LinearExpansionForm{LinearDispatchForm}}(line1)"
      ]
     },
     "execution_count": 153,
     "metadata": {},
     "output_type": "execute_result"
    }
   ],
   "source": [
    "model.devices"
   ]
  },
  {
   "cell_type": "markdown",
   "metadata": {},
   "source": [
    "## Source structure w/ focus on components"
   ]
  },
  {
   "cell_type": "code",
   "execution_count": 163,
   "metadata": {},
   "outputs": [
    {
     "name": "stdout",
     "output_type": "stream",
     "text": [
      "/home/coroa/.julia/dev/EnergyModels/src\n",
      "├── abstracttypes.jl\n",
      "├── compat.jl\n",
      "├── components\n",
      "│   ├── attrs\n",
      "│   │   ├── buses.csv\n",
      "│   │   ├── generators.csv\n",
      "│   │   ├── lines.csv\n",
      "│   │   ├── links.csv\n",
      "│   │   ├── loads.csv\n",
      "│   │   ├── storageunits.csv\n",
      "│   │   ├── stores.csv\n",
      "│   │   └── transformers.csv\n",
      "│   ├── bus.jl\n",
      "│   ├── components.jl\n",
      "│   ├── energymodel.jl\n",
      "│   ├── generator.jl\n",
      "│   ├── link.jl\n",
      "│   ├── load.jl\n",
      "│   ├── passivebranch.jl\n",
      "│   ├── storageunit.jl\n",
      "│   ├── store.jl\n",
      "│   └── subnetwork.jl\n",
      "├── containerviews.jl\n",
      "├── core.jl\n",
      "├── data\n",
      "│   ├── data.jl\n",
      "│   ├── powersystems.jl\n",
      "│   ├── pypsa.devices.csv\n",
      "│   ├── pypsa.jl\n",
      "│   ├── pypsa.lines.types.csv\n",
      "│   ├── pypsanetwork.jl\n",
      "│   └── pypsa.transformers.types.csv\n",
      "├── EnergyModels.jl\n",
      "├── formulation.jl\n",
      "├── graph.jl\n",
      "├── macros.jl\n",
      "├── modelview.jl\n",
      "├── powermodels.jl\n",
      "├── registry.jl\n",
      "└── wrappedarray.jl\n",
      "\n",
      "3 directories, 37 files\n"
     ]
    }
   ],
   "source": [
    ";tree ~/.julia/dev/EnergyModels/src"
   ]
  },
  {
   "cell_type": "code",
   "execution_count": 166,
   "metadata": {},
   "outputs": [],
   "source": [
    "EM.set_formulation!(model, Line=>EM.LinearExpansionForm{EM.LinearDispatchForm})"
   ]
  },
  {
   "cell_type": "code",
   "execution_count": 167,
   "metadata": {
    "collapsed": true,
    "jupyter": {
     "outputs_hidden": true
    }
   },
   "outputs": [
    {
     "data": {
      "text/plain": [
       "Dict{Symbol,Device} with 6 entries:\n",
       "  :gen2  => Generator{LinearExpansionForm{LinearDispatchForm}}(gen2)\n",
       "  :gen1  => Generator{LinearExpansionForm{LinearDispatchForm}}(gen1)\n",
       "  :line2 => Line{LinearExpansionForm{LinearDispatchForm}}(line2)\n",
       "  :line3 => Line{LinearExpansionForm{LinearDispatchForm}}(line3)\n",
       "  :load  => Load{LinearDispatchForm}(load)\n",
       "  :line1 => Line{LinearExpansionForm{LinearDispatchForm}}(line1)"
      ]
     },
     "execution_count": 167,
     "metadata": {},
     "output_type": "execute_result"
    }
   ],
   "source": [
    "model.devices"
   ]
  },
  {
   "cell_type": "code",
   "execution_count": null,
   "metadata": {},
   "outputs": [],
   "source": [
    "push!(model.data, :line2, )"
   ]
  },
  {
   "cell_type": "code",
   "execution_count": null,
   "metadata": {},
   "outputs": [],
   "source": [
    "exp = EnergyModel(model, modeltype=)"
   ]
  },
  {
   "cell_type": "code",
   "execution_count": 168,
   "metadata": {},
   "outputs": [
    {
     "data": {
      "text/plain": [
       "EnergyModels.Data{Nothing}(Dict(:gen1 => EnergyModels.ComponentDesc(:gen1, Generator, Dict{Symbol,Union{Bool, Float64, Int64, Symbol, AxisArray}}(:p_nom => 100.0,:bus => :bus1,:marginal_cost => 50.0)),:gen2 => EnergyModels.ComponentDesc(:gen2, Generator, Dict{Symbol,Union{Bool, Float64, Int64, Symbol, AxisArray}}(:p_nom => 100.0,:bus => :bus2,:marginal_cost => 25.0)),:bus1 => EnergyModels.ComponentDesc(:bus1, Bus, Dict{Symbol,Union{Bool, Float64, Int64, Symbol, AxisArray}}(:carrier => :AC)),:bus3 => EnergyModels.ComponentDesc(:bus3, Bus, Dict{Symbol,Union{Bool, Float64, Int64, Symbol, AxisArray}}(:carrier => :AC)),:line2 => EnergyModels.ComponentDesc(:line2, Line, Dict{Symbol,Union{Bool, Float64, Int64, Symbol, AxisArray}}(:bus1 => :bus3,:s_nom => 60.0,:bus0 => :bus2,:x => 0.0001)),:line3 => EnergyModels.ComponentDesc(:line3, Line, Dict{Symbol,Union{Bool, Float64, Int64, Symbol, AxisArray}}(:bus1 => :bus1,:s_nom => 60.0,:bus0 => :bus3,:x => 0.0001)),:load => EnergyModels.ComponentDesc(:load, Load, Dict{Symbol,Union{Bool, Float64, Int64, Symbol, AxisArray}}(:p_set => 100.0,:bus => :bus3)),:bus2 => EnergyModels.ComponentDesc(:bus2, Bus, Dict{Symbol,Union{Bool, Float64, Int64, Symbol, AxisArray}}(:carrier => :AC)),:line1 => EnergyModels.ComponentDesc(:line1, Line, Dict{Symbol,Union{Bool, Float64, Int64, Symbol, AxisArray}}(:bus1 => :bus2,:s_nom => 60.0,:bus0 => :bus1,:x => 0.0001))), Dict{Symbol,Axis}(:bus => Axis{:bus,Array{Symbol,1}}(Symbol[:bus]),:gen1 => Axis{:gen1,Array{Symbol,1}}(Symbol[:gen1]),:bus0 => Axis{:bus0,Array{Symbol,1}}(Symbol[:bus0]),:x => Axis{:x,Array{Symbol,1}}(Symbol[:x]),:marginal_cost => Axis{:marginal_cost,Array{Symbol,1}}(Symbol[:marginal_cost]),:p_set => Axis{:p_set,Array{Symbol,1}}(Symbol[:p_set]),:bus1 => Axis{:bus1,Array{Symbol,1}}(Symbol[:bus1]),:carrier => Axis{:carrier,Array{Symbol,1}}(Symbol[:carrier]),:load => Axis{:load,Array{Symbol,1}}(Symbol[:load]),:bus2 => Axis{:bus2,Array{Symbol,1}}(Symbol[:bus2])…), nothing)"
      ]
     },
     "execution_count": 168,
     "metadata": {},
     "output_type": "execute_result"
    }
   ],
   "source": [
    "model.data.components[:onwind][:p_nom] = AxisArray{}"
   ]
  },
  {
   "cell_type": "code",
   "execution_count": 169,
   "metadata": {},
   "outputs": [
    {
     "data": {
      "text/plain": [
       "Dict{Symbol,Dict{Symbol,Any}} with 10 entries:\n",
       "  :gen2        => Dict{Symbol,Any}(:p_upper=>2-dimensional DenseAxisArray{Const…\n",
       "  :line1       => Dict{Symbol,Any}(:p_upper=>2-dimensional DenseAxisArray{Const…\n",
       "  :bus1        => Dict{Symbol,Any}(:p_balance=>2-dimensional DenseAxisArray{Con…\n",
       "  :line2       => Dict{Symbol,Any}(:p_upper=>2-dimensional DenseAxisArray{Const…\n",
       "  :bus3        => Dict{Symbol,Any}(:p_balance=>2-dimensional DenseAxisArray{Con…\n",
       "  :line3       => Dict{Symbol,Any}(:p_upper=>2-dimensional DenseAxisArray{Const…\n",
       "  :load        => Dict{Symbol,Any}()\n",
       "  :subnetwork1 => Dict{Symbol,Any}(:cycles=>2-dimensional DenseAxisArray{Constr…\n",
       "  :bus2        => Dict{Symbol,Any}(:p_balance=>2-dimensional DenseAxisArray{Con…\n",
       "  :gen1        => Dict{Symbol,Any}(:p_upper=>2-dimensional DenseAxisArray{Const…"
      ]
     },
     "execution_count": 169,
     "metadata": {},
     "output_type": "execute_result"
    }
   ],
   "source": [
    "model.jumpobjects"
   ]
  },
  {
   "cell_type": "code",
   "execution_count": null,
   "metadata": {},
   "outputs": [],
   "source": [
    "model.data.fallback"
   ]
  },
  {
   "cell_type": "code",
   "execution_count": null,
   "metadata": {},
   "outputs": [],
   "source": []
  },
  {
   "cell_type": "code",
   "execution_count": null,
   "metadata": {},
   "outputs": [],
   "source": []
  }
 ],
 "metadata": {
  "@webio": {
   "lastCommId": null,
   "lastKernelId": null
  },
  "kernelspec": {
   "display_name": "Julia 1.2.0-rc2",
   "language": "julia",
   "name": "julia-1.2"
  },
  "language_info": {
   "file_extension": ".jl",
   "mimetype": "application/julia",
   "name": "julia",
   "version": "1.2.0"
  },
  "toc": {
   "base_numbering": 1,
   "nav_menu": {},
   "number_sections": true,
   "sideBar": true,
   "skip_h1_title": false,
   "title_cell": "Table of Contents",
   "title_sidebar": "Contents",
   "toc_cell": false,
   "toc_position": {},
   "toc_section_display": true,
   "toc_window_display": false
  }
 },
 "nbformat": 4,
 "nbformat_minor": 4
}
